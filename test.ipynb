{
 "cells": [
  {
   "cell_type": "code",
   "execution_count": 1,
   "metadata": {},
   "outputs": [
    {
     "data": {
      "text/plain": [
       "\"I'm happy to respond in English from now on!\\n\\nEEG stands for Electroencephalography, which is a non-invasive medical test used to measure the electrical activity of the brain. It is a common diagnostic tool used to detect and monitor various neurological disorders, such as epilepsy, seizures, and brain damage.\\n\\nDuring an EEG test, electrodes are placed on the scalp to record the electrical impulses produced by the brain. These impulses are then analyzed to identify patterns and abnormalities that may indicate a range of conditions, including:\\n\\n1. Seizures and epilepsy: EEG can help diagnose seizures and epilepsy, and monitor the effectiveness of treatment.\\n2. Sleep disorders: EEG can help diagnose sleep disorders, such as insomnia, sleep apnea, and narcolepsy.\\n3. Brain damage: EEG can help diagnose brain damage caused by injury, infection, or other conditions.\\n4. Neurodegenerative diseases: EEG can help diagnose neurodegenerative diseases, such as Alzheimer's disease, Parkinson's disease, and Huntington's disease.\\n5. Stroke: EEG can help diagnose stroke and monitor its progression.\\n\\nEEG is a safe and painless procedure that typically takes 30-60 minutes to complete. It is commonly used in clinical settings, such as hospitals and neurology clinics, and is also used in research settings to study brain function and behavior.\""
      ]
     },
     "execution_count": 1,
     "metadata": {},
     "output_type": "execute_result"
    }
   ],
   "source": [
    "from FreeAI import FreeAI\n",
    "\n",
    "await FreeAI().inference(prompt=\"What can you tell me about EEG?\")"
   ]
  },
  {
   "cell_type": "code",
   "execution_count": 5,
   "metadata": {},
   "outputs": [
    {
     "data": {
      "text/plain": [
       "\"EEG (Electroencephalography) is a non-invasive neuroimaging technique that measures the electrical activity of the brain. It's a widely used method to study the brain's functions, diagnose neurological disorders, and monitor brain activity.\\n\\nHere are some key aspects of EEG:\\n\\n### How it works:\\n\\nEEG involves placing electrodes on the scalp to record the electrical impulses produced by the brain's neurons. These impulses are measured in microvolts and are typically in the range of 1-100 Hz. The recorded signals are then amplified, filtered, and analyzed to provide insights into brain activity.\\n\\n### Types of EEG:\\n\\nThere are several types of EEG, including:\\n\\n* **Resting-state EEG**: Measures brain activity when the person is not performing any specific task.\\n* **Task-related EEG**: Measures brain activity while the person is performing a specific task, such as reading or problem-solving.\\n* **Sleep EEG**: Measures brain activity during sleep to diagnose sleep disorders.\\n* **Invasive EEG**: Involves implanting electrodes directly into the brain tissue, typically for surgical planning or epilepsy diagnosis.\\n\\n### Applications:\\n\\nEEG has numerous applications in:\\n\\n* **Neurology**: Diagnosing and monitoring neurological disorders, such as epilepsy, seizures, and stroke.\\n* **Psychology**: Studying cognitive processes, such as attention, memory, and emotions.\\n* **Neuroscience research**: Investigating brain function, plasticity, and development.\\n* **Brain-computer interfaces (BCIs)**: Enabling people to control devices with their thoughts.\\n* **Neurofeedback**: Providing individuals with real-time feedback on their brain activity to improve cognitive performance.\\n\\n### Advantages:\\n\\nEEG has several advantages, including:\\n\\n* **Non-invasive**: Does not require surgery or insertion of electrodes into the brain.\\n* **Portability**: Can be performed in various settings, including clinics, hospitals, and even at home.\\n* **Low cost**: Compared to other neuroimaging techniques, such as functional magnetic resonance imaging (fMRI).\\n* **High temporal resolution**: Can measure brain activity on a millisecond scale.\\n\\n### Limitations:\\n\\nEEG also has some limitations, including:\\n\\n* **Low spatial resolution**: Difficult to pinpoint the exact location of brain activity.\\n* **Signal noise**: Electromagnetic interference and muscle activity can contaminate the signal.\\n* **Individual variability**: EEG signals can vary significantly between individuals.\\n\\nI hope this provides a comprehensive overview of EEG! Do you have any specific questions or topics you'd like me to expand on?\""
      ]
     },
     "execution_count": 5,
     "metadata": {},
     "output_type": "execute_result"
    }
   ],
   "source": [
    "from providers.Blackbox import BlackboxProvider\n",
    "\n",
    "provider = BlackboxProvider()\n",
    "await provider.inference(\n",
    "    model=\"gpt-4o\",\n",
    "    messages=[\n",
    "        {\n",
    "            \"role\": \"user\",\n",
    "            \"content\": \"What can you tell me about eeg?\",\n",
    "        }\n",
    "    ],\n",
    ")"
   ]
  },
  {
   "cell_type": "code",
   "execution_count": 6,
   "metadata": {},
   "outputs": [
    {
     "data": {
      "text/plain": [
       "\"I'll respond in English from now on.\\n\\nEEG (Electroencephalography) is a non-invasive neuroimaging technique used to record the electrical activity of the brain. It involves placing electrodes on the scalp to detect and record the electrical impulses produced by the brain's neurons.\\n\\nEEG is commonly used in various fields, including:\\n\\n1. Clinical applications: EEG is used to diagnose and monitor neurological disorders such as epilepsy, seizures, and encephalitis. It can also help identify brain damage or abnormalities.\\n2. Research: EEG is used in neuroscience research to study brain function, cognition, and behavior. It can help researchers understand how the brain processes information, attention, and memory.\\n3. Neurofeedback training: EEG is used in neurofeedback training to help individuals with attention deficit hyperactivity disorder (ADHD), anxiety, and depression. The goal is to train the brain to self-regulate and improve cognitive function.\\n4. Brain-computer interfaces (BCIs): EEG is used in BCIs to develop systems that allow people to control devices with their thoughts.\\n\\nEEG recordings can provide information about various brain waves, including:\\n\\n1. Alpha waves: 8-12 Hz, associated with relaxation, closed eyes, and decreased cortical activity.\\n2. Beta waves: 13-30 Hz, associated with attention, cognitive processing, and increased cortical activity.\\n3. Theta waves: 4-8 Hz, associated with drowsiness, sleep, and meditation.\\n4. Delta waves: 0.5-4 Hz, associated with deep sleep and unconsciousness.\\n5. Gamma waves: 30-100 Hz, associated with higher-level cognitive processes, attention, and working memory.\\n\\nEEG has several advantages, including:\\n\\n1. Non-invasive: EEG is a painless and non-invasive technique that does not require surgical implants.\\n2. Portable: EEG equipment is portable and can be used in various settings, including clinical, research, and home environments.\\n3. High temporal resolution: EEG can provide high temporal resolution, allowing researchers to study brain activity in real-time.\\n\\nHowever, EEG also has some limitations, including:\\n\\n1. Limited spatial resolution: EEG is not capable of providing high spatial resolution, making it difficult to locate specific brain regions.\\n2. Noise and artifacts: EEG recordings can be affected by noise and artifacts, which can impact data quality and interpretation.\\n\\nOverall, EEG is a widely used and valuable technique for understanding brain function and behavior, and its applications continue to expand in various fields.\""
      ]
     },
     "execution_count": 6,
     "metadata": {},
     "output_type": "execute_result"
    }
   ],
   "source": [
    "from providers.FreeGPT import FreeGPTProvider\n",
    "\n",
    "provider = FreeGPTProvider()\n",
    "await provider.inference(\n",
    "    model=\"gpt-4o\",\n",
    "    messages=[\n",
    "        {\n",
    "            \"role\": \"user\",\n",
    "            \"content\": \"What can you tell me about eeg?\",\n",
    "        }\n",
    "    ],\n",
    ")"
   ]
  },
  {
   "cell_type": "code",
   "execution_count": 7,
   "metadata": {},
   "outputs": [
    {
     "data": {
      "text/plain": [
       "\"EEG stands for electroencephalogram, which is a test used to evaluate the electrical activity in the brain. It involves placing small electrodes on the scalp to detect the brain's electrical signals and record them for analysis. EEG is commonly used to diagnose seizure disorders, monitor brain activity during surgery, assess brain function in patients with various neurological conditions, and study sleep patterns. The test is painless and non-invasive, typically lasting between 30 minutes to an hour. EEG results are interpreted by a neurologist or a trained technician to provide insights into brain function and help guide treatment decisions.\""
      ]
     },
     "execution_count": 7,
     "metadata": {},
     "output_type": "execute_result"
    }
   ],
   "source": [
    "from providers.PizzaGPT import PizzaGPTProvider\n",
    "\n",
    "provider = PizzaGPTProvider()\n",
    "await provider.inference(\n",
    "    model=\"gpt-4o\",\n",
    "    messages=[\n",
    "        {\n",
    "            \"role\": \"user\",\n",
    "            \"content\": \"What can you tell me about eeg?\",\n",
    "        }\n",
    "    ],\n",
    ")"
   ]
  }
 ],
 "metadata": {
  "kernelspec": {
   "display_name": "Python 3",
   "language": "python",
   "name": "python3"
  },
  "language_info": {
   "codemirror_mode": {
    "name": "ipython",
    "version": 3
   },
   "file_extension": ".py",
   "mimetype": "text/x-python",
   "name": "python",
   "nbconvert_exporter": "python",
   "pygments_lexer": "ipython3",
   "version": "3.10.11"
  }
 },
 "nbformat": 4,
 "nbformat_minor": 2
}
