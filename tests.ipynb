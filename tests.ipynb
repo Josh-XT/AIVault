{
 "cells": [
  {
   "cell_type": "code",
   "execution_count": 1,
   "metadata": {},
   "outputs": [
    {
     "name": "stdout",
     "output_type": "stream",
     "text": [
      "[{'class': <class 'providers.Blackbox.BlackboxProvider'>,\n",
      "  'models': ['gpt-4o', 'gpt-3.5-turbo'],\n",
      "  'name': 'BlackboxProvider'},\n",
      " {'class': <class 'providers.FreeGPT.FreeGPTProvider'>,\n",
      "  'models': ['gpt-4o', 'gpt-3.5-turbo'],\n",
      "  'name': 'FreeGPTProvider'},\n",
      " {'class': <class 'providers.PizzaGPT.PizzaGPTProvider'>,\n",
      "  'models': ['gpt-4o', 'gpt-3.5-turbo'],\n",
      "  'name': 'PizzaGPTProvider'}]\n"
     ]
    }
   ],
   "source": [
    "from aivault.AIVault import get_providers\n",
    "from pprint import pprint\n",
    "\n",
    "providers = get_providers()\n",
    "pprint(providers)"
   ]
  },
  {
   "cell_type": "code",
   "execution_count": 2,
   "metadata": {},
   "outputs": [
    {
     "data": {
      "text/plain": [
       "\"EEG stands for electroencephalography, which is a non-invasive technique used to record electrical activity in the brain. The process involves placing electrodes on the scalp to detect the brain's electrical signals, which are then amplified and recorded by a machine.\\n\\nEEG is commonly used in the medical field to diagnose and monitor conditions such as epilepsy, sleep disorders, brain tumors, and Alzheimer's disease. It can also be used in research to study brain function and activity.\\n\\nThe recorded brain waves are categorized into different frequency bands, including delta, theta, alpha, beta, and gamma waves, depending on their amplitude and frequency. These waves are associated with various states of consciousness, cognitive tasks, and mental health conditions.\\n\\nOverall, EEG is a valuable tool for studying brain activity and can provide valuable insights into brain function and dysfunction.\""
      ]
     },
     "execution_count": 2,
     "metadata": {},
     "output_type": "execute_result"
    }
   ],
   "source": [
    "from aivault.AIVault import AIVault\n",
    "\n",
    "await AIVault().inference(prompt=\"What can you tell me about EEG?\")"
   ]
  },
  {
   "cell_type": "code",
   "execution_count": 3,
   "metadata": {},
   "outputs": [
    {
     "data": {
      "text/plain": [
       "\"EEG (Electroencephalography) is a non-invasive neuroimaging technique that measures the electrical activity of the brain. It's a widely used tool in neuroscience, medicine, and research to study the brain's function, diagnose neurological disorders, and monitor brain activity.\\n\\nHere are some key aspects of EEG:\\n\\n**How it works:**\\n\\n1. Electrodes: EEG uses electrodes, usually placed on the scalp, to detect the electrical activity of the brain. These electrodes are usually small metal discs or cups filled with a conductive gel.\\n2. Signal detection: The electrodes detect the tiny electrical impulses produced by the brain's neurons, which are then amplified and recorded by an EEG machine.\\n3. Frequency bands: EEG signals are typically divided into different frequency bands, each corresponding to different states of brain activity, such as:\\n\\t* Delta (0.5-4 Hz): deep sleep, unconsciousness\\n\\t* Theta (4-8 Hz): drowsiness, meditation\\n\\t* Alpha (8-12 Hz): relaxed, closed eyes\\n\\t* Beta (12-30 Hz): active thinking, problem-solving\\n\\t* Gamma (30-100 Hz): high-level cognitive processing, attention\\n\\n**Applications:**\\n\\n1. **Clinical diagnosis:** EEG is used to diagnose and monitor neurological disorders, such as:\\n\\t* Epilepsy: to identify seizure patterns and localize seizure foci\\n\\t* Encephalitis: to detect abnormal brain activity\\n\\t* Brain death: to confirm the absence of brain activity\\n2. **Research:** EEG is used in various research fields, including:\\n\\t* Cognitive neuroscience: to study attention, perception, and memory\\n\\t* Neuroplasticity: to investigate brain reorganization and adaptation\\n\\t* Brain-computer interfaces (BCIs): to develop systems that allow people to control devices with their thoughts\\n3. **Neurofeedback:** EEG is used in neurofeedback training to help individuals control their brain activity, often for therapeutic purposes, such as:\\n\\t* Anxiety and stress management\\n\\t* Attention deficit hyperactivity disorder (ADHD) treatment\\n\\t* Peak performance training\\n\\n**Types of EEG:**\\n\\n1. **Resting-state EEG:** measures brain activity while the person is at rest, often with eyes closed.\\n2. **Task-related EEG:** measures brain activity while the person performs a specific task, such as a cognitive task or a motor activity.\\n3. **Sleep EEG:** measures brain activity during sleep, often to diagnose sleep disorders.\\n4. **High-density EEG:** uses a large number of electrodes to provide high-resolution spatial information about brain activity.\\n\\n**Limitations:**\\n\\n1. **Spatial resolution:** EEG has limited spatial resolution, making it difficult to pinpoint the exact location of brain activity.\\n2. **Signal noise:** EEG signals can be affected by noise from muscle activity, eye movements, and other sources.\\n3. **Individual variability:** EEG signals can vary significantly between individuals, making it challenging to establish universal norms.\\n\\nOverall, EEG is a powerful tool for understanding brain function and has many applications in both clinical and research settings.\""
      ]
     },
     "execution_count": 3,
     "metadata": {},
     "output_type": "execute_result"
    }
   ],
   "source": [
    "from aivault.providers.Blackbox import BlackboxProvider\n",
    "\n",
    "provider = BlackboxProvider()\n",
    "await provider.inference(\n",
    "    model=\"gpt-4o\",\n",
    "    messages=[\n",
    "        {\n",
    "            \"role\": \"user\",\n",
    "            \"content\": \"What can you tell me about eeg?\",\n",
    "        }\n",
    "    ],\n",
    ")"
   ]
  },
  {
   "cell_type": "code",
   "execution_count": 4,
   "metadata": {},
   "outputs": [
    {
     "data": {
      "text/plain": [
       "\"EEG (Electroencephalography) is a non-invasive neuroimaging technique used to measure the electrical activity of the brain. It involves placing electrodes on the scalp to record the electrical impulses produced by the brain's neurons.\\n\\nEEG is commonly used in various fields, including:\\n\\n1. Clinical diagnosis: EEG helps diagnose various neurological disorders, such as epilepsy, brain tumors, and stroke.\\n2. Research: EEG is used to study brain function, neural networks, and cognitive processes.\\n3. Neurofeedback: EEG is used to provide feedback to individuals about their brain activity, helping them to learn self-regulation techniques.\\n4. Neurostimulation: EEG is used to study the effects of transcranial magnetic stimulation (TMS) and transcranial direct current stimulation (tDCS) on brain activity.\\n\\nEEG signals can be analyzed in various ways, including:\\n\\n1. Frequency analysis: EEG signals can be decomposed into different frequency bands (e.g., alpha, beta, theta, delta), which are associated with different states of brain activity (e.g., relaxation, attention, sleep).\\n2. Time-frequency analysis: EEG signals can be analyzed in both time and frequency domains, allowing for the detection of changes in brain activity over time.\\n3. Machine learning: EEG signals can be used to classify brain states, predict behavior, and identify individuals with neurological disorders.\\n\\nSome of the advantages of EEG include:\\n\\n1. Non-invasive: EEG is a non-invasive technique, making it a safe and comfortable option for patients.\\n2. High temporal resolution: EEG can capture neural activity at high temporal resolution, allowing for the detection of fast-changing brain states.\\n3. Cost-effective: EEG is a relatively inexpensive technique compared to other neuroimaging methods.\\n\\nHowever, EEG also has some limitations, including:\\n\\n1. Limited spatial resolution: EEG signals are not spatially localized, making it difficult to determine the exact location of brain activity.\\n2. Noise and artifacts: EEG signals can be contaminated by noise and artifacts from various sources (e.g., muscle activity, eye movements).\\n\\nOverall, EEG is a powerful tool for studying brain activity and has numerous applications in both research and clinical settings.\""
      ]
     },
     "execution_count": 4,
     "metadata": {},
     "output_type": "execute_result"
    }
   ],
   "source": [
    "from aivault.providers.FreeGPT import FreeGPTProvider\n",
    "\n",
    "provider = FreeGPTProvider()\n",
    "await provider.inference(\n",
    "    model=\"gpt-4o\",\n",
    "    messages=[\n",
    "        {\n",
    "            \"role\": \"user\",\n",
    "            \"content\": \"What can you tell me about eeg?\",\n",
    "        }\n",
    "    ],\n",
    ")"
   ]
  },
  {
   "cell_type": "code",
   "execution_count": 5,
   "metadata": {},
   "outputs": [
    {
     "data": {
      "text/plain": [
       "'EEG stands for electroencephalography, which is a noninvasive test that measures electrical activity in the brain. It involves placing small electrodes on the scalp to record brain wave patterns, which can provide valuable information about brain function and activity.\\n\\nEEG is commonly used to diagnose and monitor conditions such as epilepsy, sleep disorders, and brain injuries. It can also be used to assess brain function in patients with cognitive impairment or neurological conditions.\\n\\nDuring an EEG, the patient may be asked to perform certain tasks or activities to help trigger specific brain wave patterns. The test is painless and typically takes about 30-60 minutes to complete.\\n\\nOverall, EEG is a safe and reliable tool for assessing brain function and can provide valuable insights into neurological conditions and brain health.'"
      ]
     },
     "execution_count": 5,
     "metadata": {},
     "output_type": "execute_result"
    }
   ],
   "source": [
    "from aivault.providers.PizzaGPT import PizzaGPTProvider\n",
    "\n",
    "provider = PizzaGPTProvider()\n",
    "await provider.inference(\n",
    "    model=\"gpt-4o\",\n",
    "    messages=[\n",
    "        {\n",
    "            \"role\": \"user\",\n",
    "            \"content\": \"What can you tell me about eeg?\",\n",
    "        }\n",
    "    ],\n",
    ")"
   ]
  }
 ],
 "metadata": {
  "kernelspec": {
   "display_name": "Python 3",
   "language": "python",
   "name": "python3"
  },
  "language_info": {
   "codemirror_mode": {
    "name": "ipython",
    "version": 3
   },
   "file_extension": ".py",
   "mimetype": "text/x-python",
   "name": "python",
   "nbconvert_exporter": "python",
   "pygments_lexer": "ipython3",
   "version": "3.10.11"
  }
 },
 "nbformat": 4,
 "nbformat_minor": 2
}
